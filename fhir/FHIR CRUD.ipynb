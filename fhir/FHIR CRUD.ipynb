{
 "cells": [
  {
   "cell_type": "markdown",
   "id": "5c5f4ca0-2cf7-40cb-9755-4dddac9eeb9a",
   "metadata": {},
   "source": [
    "# A simple FHIR CRUD"
   ]
  },
  {
   "cell_type": "markdown",
   "id": "2e778209-67dd-42c4-8205-5c001d75e06a",
   "metadata": {},
   "source": [
    "## Setup"
   ]
  },
  {
   "cell_type": "code",
   "execution_count": 1,
   "id": "692bbb6e-706a-4ebc-9bf3-7fbcc7a90d81",
   "metadata": {},
   "outputs": [],
   "source": [
    "import requests"
   ]
  },
  {
   "cell_type": "code",
   "execution_count": 2,
   "id": "cad965dc-95e6-4360-9bd8-208d26272684",
   "metadata": {},
   "outputs": [],
   "source": [
    "base_url = \"http://localhost:52773/fhir/r4\""
   ]
  },
  {
   "cell_type": "code",
   "execution_count": 3,
   "id": "5083bc34-df02-4038-a747-fc96fb694db9",
   "metadata": {},
   "outputs": [
    {
     "data": {
      "text/plain": [
       "{'resourceType': 'Patient',\n",
       " 'id': 'example',\n",
       " 'text': {'status': 'generated',\n",
       "  'div': '<div xmlns=\"http://www.w3.org/1999/xhtml\"><p style=\"border: 1px #661aff solid; background-color: #e6e6ff; padding: 10px;\"><b>Jim </b> male, DoB: 1974-12-25 ( Medical record number: 12345\\xa0(use:\\xa0USUAL,\\xa0period:\\xa02001-05-06 --&gt; (ongoing)))</p><hr/><table class=\"grid\"><tr><td style=\"background-color: #f3f5da\" title=\"Record is active\">Active:</td><td>true</td><td style=\"background-color: #f3f5da\" title=\"Known status of Patient\">Deceased:</td><td colspan=\"3\">false</td></tr><tr><td style=\"background-color: #f3f5da\" title=\"Alternate names (see the one above)\">Alt Names:</td><td colspan=\"3\"><ul><li>Peter James Chalmers (OFFICIAL)</li><li>Peter James Windsor (MAIDEN)</li></ul></td></tr><tr><td style=\"background-color: #f3f5da\" title=\"Ways to contact the Patient\">Contact Details:</td><td colspan=\"3\"><ul><li>-unknown-(HOME)</li><li>ph: (03) 5555 6473(WORK)</li><li>ph: (03) 3410 5613(MOBILE)</li><li>ph: (03) 5555 8834(OLD)</li><li>534 Erewhon St PeasantVille, Rainbow, Vic  3999(HOME)</li></ul></td></tr><tr><td style=\"background-color: #f3f5da\" title=\"Nominated Contact: Next-of-Kin\">Next-of-Kin:</td><td colspan=\"3\"><ul><li>Bénédicte du Marché  (female)</li><li>534 Erewhon St PleasantVille Vic 3999 (HOME)</li><li><a href=\"tel:+33(237)998327\">+33 (237) 998327</a></li><li>Valid Period: 2012 --&gt; (ongoing)</li></ul></td></tr><tr><td style=\"background-color: #f3f5da\" title=\"Patient Links\">Links:</td><td colspan=\"3\"><ul><li>Managing Organization: <a href=\"organization-example-gastro.html\">Organization/1</a> &quot;Gastroenterology&quot;</li></ul></td></tr></table></div>'},\n",
       " 'identifier': [{'use': 'usual',\n",
       "   'type': {'coding': [{'system': 'http://terminology.hl7.org/CodeSystem/v2-0203',\n",
       "      'code': 'MR'}]},\n",
       "   'system': 'urn:oid:1.2.36.146.595.217.0.1',\n",
       "   'value': '12345',\n",
       "   'period': {'start': '2001-05-06'},\n",
       "   'assigner': {'display': 'Acme Healthcare'}}],\n",
       " 'active': True,\n",
       " 'name': [{'use': 'official',\n",
       "   'family': 'Chalmers',\n",
       "   'given': ['Peter', 'James']},\n",
       "  {'use': 'usual', 'given': ['Jim']},\n",
       "  {'use': 'maiden',\n",
       "   'family': 'Windsor',\n",
       "   'given': ['Peter', 'James'],\n",
       "   'period': {'end': '2002'}}],\n",
       " 'telecom': [{'use': 'home'},\n",
       "  {'system': 'phone', 'value': '(03) 5555 6473', 'use': 'work', 'rank': 1},\n",
       "  {'system': 'phone', 'value': '(03) 3410 5613', 'use': 'mobile', 'rank': 2},\n",
       "  {'system': 'phone',\n",
       "   'value': '(03) 5555 8834',\n",
       "   'use': 'old',\n",
       "   'period': {'end': '2014'}}],\n",
       " 'gender': 'male',\n",
       " 'birthDate': '1974-12-25',\n",
       " '_birthDate': {'extension': [{'url': 'http://hl7.org/fhir/StructureDefinition/patient-birthTime',\n",
       "    'valueDateTime': '1974-12-25T14:35:45-05:00'}]},\n",
       " 'deceasedBoolean': False,\n",
       " 'address': [{'use': 'home',\n",
       "   'type': 'both',\n",
       "   'text': '534 Erewhon St PeasantVille, Rainbow, Vic  3999',\n",
       "   'line': ['534 Erewhon St'],\n",
       "   'city': 'PleasantVille',\n",
       "   'district': 'Rainbow',\n",
       "   'state': 'Vic',\n",
       "   'postalCode': '3999',\n",
       "   'period': {'start': '1974-12-25'}}],\n",
       " 'contact': [{'relationship': [{'coding': [{'system': 'http://terminology.hl7.org/CodeSystem/v2-0131',\n",
       "       'code': 'N'}]}],\n",
       "   'name': {'family': 'du Marché',\n",
       "    '_family': {'extension': [{'url': 'http://hl7.org/fhir/StructureDefinition/humanname-own-prefix',\n",
       "       'valueString': 'VV'}]},\n",
       "    'given': ['Bénédicte']},\n",
       "   'telecom': [{'system': 'phone', 'value': '+33 (237) 998327'}],\n",
       "   'address': {'use': 'home',\n",
       "    'type': 'both',\n",
       "    'line': ['534 Erewhon St'],\n",
       "    'city': 'PleasantVille',\n",
       "    'district': 'Rainbow',\n",
       "    'state': 'Vic',\n",
       "    'postalCode': '3999',\n",
       "    'period': {'start': '1974-12-25'}},\n",
       "   'gender': 'female',\n",
       "   'period': {'start': '2012'}}],\n",
       " 'managingOrganization': {'reference': 'Organization/1'}}"
      ]
     },
     "execution_count": 3,
     "metadata": {},
     "output_type": "execute_result"
    }
   ],
   "source": [
    "patient = requests.get(\"https://build.fhir.org/patient-example.json\").json()\n",
    "patient"
   ]
  },
  {
   "cell_type": "markdown",
   "id": "4fef9c72-a820-403e-ad02-d5efa140df97",
   "metadata": {},
   "source": [
    "## Creating a patient"
   ]
  },
  {
   "cell_type": "code",
   "execution_count": 4,
   "id": "6d7af908-43f8-4500-9524-1e88d8e5e15b",
   "metadata": {},
   "outputs": [
    {
     "data": {
      "text/plain": [
       "<Response [201]>"
      ]
     },
     "execution_count": 4,
     "metadata": {},
     "output_type": "execute_result"
    }
   ],
   "source": [
    "headers = {\"Content-Type\": \"application/fhir+json;charset=utf-8\"}\n",
    "api_url = f\"{base_url}/Patient\"\n",
    "r = requests.post(api_url, headers=headers, json=patient)\n",
    "r"
   ]
  },
  {
   "cell_type": "code",
   "execution_count": 5,
   "id": "6e97936d-7af5-4ba3-a55f-becf6271df24",
   "metadata": {},
   "outputs": [
    {
     "data": {
      "text/plain": [
       "{'Date': 'Wed, 29 Nov 2023 00:13:17 GMT', 'Server': 'Apache', 'CACHE-CONTROL': 'no-cache', 'ETAG': 'W/\"1\"', 'EXPIRES': 'Thu, 29 Oct 1998 17:04:19 GMT', 'LAST-MODIFIED': 'Wed, 29 Nov 2023 00:13:17 GMT', 'LOCATION': 'http://localhost:52773/fhir/r4/Patient/41/_history/1', 'PRAGMA': 'no-cache', 'CONTENT-LENGTH': '0', 'Keep-Alive': 'timeout=120', 'Connection': 'Keep-Alive', 'Content-Type': 'text/html; charset=utf-8'}"
      ]
     },
     "execution_count": 5,
     "metadata": {},
     "output_type": "execute_result"
    }
   ],
   "source": [
    "r.headers"
   ]
  },
  {
   "cell_type": "code",
   "execution_count": 6,
   "id": "4c55d2cf-f6cb-4e2e-b916-6830ab3bbe69",
   "metadata": {},
   "outputs": [
    {
     "data": {
      "text/plain": [
       "'41'"
      ]
     },
     "execution_count": 6,
     "metadata": {},
     "output_type": "execute_result"
    }
   ],
   "source": [
    "created_id = r.headers[\"LOCATION\"].split(\"/\")[-3]\n",
    "created_id"
   ]
  },
  {
   "cell_type": "markdown",
   "id": "f9024f8a-edd6-4dfb-a6ea-e47449d27af8",
   "metadata": {},
   "source": [
    "## Retreiving the created patient"
   ]
  },
  {
   "cell_type": "code",
   "execution_count": 7,
   "id": "842097ac-5666-4f48-adc4-63a6824a571b",
   "metadata": {},
   "outputs": [
    {
     "data": {
      "text/plain": [
       "{'resourceType': 'Patient',\n",
       " 'id': '41',\n",
       " 'text': {'status': 'generated',\n",
       "  'div': '<div xmlns=\"http://www.w3.org/1999/xhtml\"><p style=\"border: 1px #661aff solid; background-color: #e6e6ff; padding: 10px;\"><b>Jim </b> male, DoB: 1974-12-25 ( Medical record number: 12345\\xa0(use:\\xa0USUAL,\\xa0period:\\xa02001-05-06 --&gt; (ongoing)))</p><hr/><table class=\"grid\"><tr><td style=\"background-color: #f3f5da\" title=\"Record is active\">Active:</td><td>true</td><td style=\"background-color: #f3f5da\" title=\"Known status of Patient\">Deceased:</td><td colspan=\"3\">false</td></tr><tr><td style=\"background-color: #f3f5da\" title=\"Alternate names (see the one above)\">Alt Names:</td><td colspan=\"3\"><ul><li>Peter James Chalmers (OFFICIAL)</li><li>Peter James Windsor (MAIDEN)</li></ul></td></tr><tr><td style=\"background-color: #f3f5da\" title=\"Ways to contact the Patient\">Contact Details:</td><td colspan=\"3\"><ul><li>-unknown-(HOME)</li><li>ph: (03) 5555 6473(WORK)</li><li>ph: (03) 3410 5613(MOBILE)</li><li>ph: (03) 5555 8834(OLD)</li><li>534 Erewhon St PeasantVille, Rainbow, Vic  3999(HOME)</li></ul></td></tr><tr><td style=\"background-color: #f3f5da\" title=\"Nominated Contact: Next-of-Kin\">Next-of-Kin:</td><td colspan=\"3\"><ul><li>Bénédicte du Marché  (female)</li><li>534 Erewhon St PleasantVille Vic 3999 (HOME)</li><li><a href=\"tel:+33(237)998327\">+33 (237) 998327</a></li><li>Valid Period: 2012 --&gt; (ongoing)</li></ul></td></tr><tr><td style=\"background-color: #f3f5da\" title=\"Patient Links\">Links:</td><td colspan=\"3\"><ul><li>Managing Organization: <a href=\"organization-example-gastro.html\">Organization/1</a> &quot;Gastroenterology&quot;</li></ul></td></tr></table></div>'},\n",
       " 'identifier': [{'use': 'usual',\n",
       "   'type': {'coding': [{'system': 'http://terminology.hl7.org/CodeSystem/v2-0203',\n",
       "      'code': 'MR'}]},\n",
       "   'system': 'urn:oid:1.2.36.146.595.217.0.1',\n",
       "   'value': '12345',\n",
       "   'period': {'start': '2001-05-06'},\n",
       "   'assigner': {'display': 'Acme Healthcare'}}],\n",
       " 'active': True,\n",
       " 'name': [{'use': 'official',\n",
       "   'family': 'Chalmers',\n",
       "   'given': ['Peter', 'James']},\n",
       "  {'use': 'usual', 'given': ['Jim']},\n",
       "  {'use': 'maiden',\n",
       "   'family': 'Windsor',\n",
       "   'given': ['Peter', 'James'],\n",
       "   'period': {'end': '2002'}}],\n",
       " 'telecom': [{'use': 'home'},\n",
       "  {'system': 'phone', 'value': '(03) 5555 6473', 'use': 'work', 'rank': 1},\n",
       "  {'system': 'phone', 'value': '(03) 3410 5613', 'use': 'mobile', 'rank': 2},\n",
       "  {'system': 'phone',\n",
       "   'value': '(03) 5555 8834',\n",
       "   'use': 'old',\n",
       "   'period': {'end': '2014'}}],\n",
       " 'gender': 'male',\n",
       " 'birthDate': '1974-12-25',\n",
       " '_birthDate': {'extension': [{'url': 'http://hl7.org/fhir/StructureDefinition/patient-birthTime',\n",
       "    'valueDateTime': '1974-12-25T14:35:45-05:00'}]},\n",
       " 'deceasedBoolean': False,\n",
       " 'address': [{'use': 'home',\n",
       "   'type': 'both',\n",
       "   'text': '534 Erewhon St PeasantVille, Rainbow, Vic  3999',\n",
       "   'line': ['534 Erewhon St'],\n",
       "   'city': 'PleasantVille',\n",
       "   'district': 'Rainbow',\n",
       "   'state': 'Vic',\n",
       "   'postalCode': '3999',\n",
       "   'period': {'start': '1974-12-25'}}],\n",
       " 'contact': [{'relationship': [{'coding': [{'system': 'http://terminology.hl7.org/CodeSystem/v2-0131',\n",
       "       'code': 'N'}]}],\n",
       "   'name': {'family': 'du Marché',\n",
       "    '_family': {'extension': [{'url': 'http://hl7.org/fhir/StructureDefinition/humanname-own-prefix',\n",
       "       'valueString': 'VV'}]},\n",
       "    'given': ['Bénédicte']},\n",
       "   'telecom': [{'system': 'phone', 'value': '+33 (237) 998327'}],\n",
       "   'address': {'use': 'home',\n",
       "    'type': 'both',\n",
       "    'line': ['534 Erewhon St'],\n",
       "    'city': 'PleasantVille',\n",
       "    'district': 'Rainbow',\n",
       "    'state': 'Vic',\n",
       "    'postalCode': '3999',\n",
       "    'period': {'start': '1974-12-25'}},\n",
       "   'gender': 'female',\n",
       "   'period': {'start': '2012'}}],\n",
       " 'managingOrganization': {'reference': 'Organization/1'},\n",
       " 'meta': {'lastUpdated': '2023-11-29T00:13:17Z', 'versionId': '1'}}"
      ]
     },
     "execution_count": 7,
     "metadata": {},
     "output_type": "execute_result"
    }
   ],
   "source": [
    "api_url = f\"{base_url}/Patient/{created_id}\"\n",
    "response = requests.get(api_url)\n",
    "patient = response.json()\n",
    "patient"
   ]
  },
  {
   "cell_type": "markdown",
   "id": "4edfe165-eca4-4fb3-8759-57e25c134dfc",
   "metadata": {},
   "source": [
    "## Updating a patient"
   ]
  },
  {
   "cell_type": "code",
   "execution_count": 8,
   "id": "1a2bdfe9-ad1a-4507-8d6b-8f0a673705c3",
   "metadata": {},
   "outputs": [
    {
     "data": {
      "text/plain": [
       "'Chalmers'"
      ]
     },
     "execution_count": 8,
     "metadata": {},
     "output_type": "execute_result"
    }
   ],
   "source": [
    "patient[\"name\"][0][\"family\"]"
   ]
  },
  {
   "cell_type": "code",
   "execution_count": 9,
   "id": "48a37f42-07dc-47df-aa2d-2ca3bc2a50f9",
   "metadata": {},
   "outputs": [
    {
     "data": {
      "text/plain": [
       "'Chalmers [updated]'"
      ]
     },
     "execution_count": 9,
     "metadata": {},
     "output_type": "execute_result"
    }
   ],
   "source": [
    "patient[\"name\"][0][\"family\"] = f'{patient[\"name\"][0][\"family\"]} [updated]'\n",
    "patient[\"name\"][0][\"family\"]"
   ]
  },
  {
   "cell_type": "code",
   "execution_count": 10,
   "id": "f70015c2-9244-4aba-826a-ce8ce872adc2",
   "metadata": {},
   "outputs": [
    {
     "data": {
      "text/plain": [
       "<Response [200]>"
      ]
     },
     "execution_count": 10,
     "metadata": {},
     "output_type": "execute_result"
    }
   ],
   "source": [
    "headers = {\"Content-Type\": \"application/fhir+json;charset=utf-8\"}\n",
    "api_url = f\"{base_url}/Patient/{created_id}\"\n",
    "r = requests.put(api_url, headers=headers, json=patient)\n",
    "r"
   ]
  },
  {
   "cell_type": "code",
   "execution_count": 11,
   "id": "620e3926-fd3c-48ab-81ad-c475383f3120",
   "metadata": {},
   "outputs": [
    {
     "data": {
      "text/plain": [
       "{'Date': 'Wed, 29 Nov 2023 00:13:17 GMT', 'Server': 'Apache', 'CACHE-CONTROL': 'no-cache', 'ETAG': 'W/\"2\"', 'EXPIRES': 'Thu, 29 Oct 1998 17:04:19 GMT', 'LAST-MODIFIED': 'Wed, 29 Nov 2023 00:13:17 GMT', 'LOCATION': 'http://localhost:52773/fhir/r4/Patient/41/_history/2', 'PRAGMA': 'no-cache', 'CONTENT-LENGTH': '0', 'Keep-Alive': 'timeout=120', 'Connection': 'Keep-Alive', 'Content-Type': 'text/html; charset=utf-8'}"
      ]
     },
     "execution_count": 11,
     "metadata": {},
     "output_type": "execute_result"
    }
   ],
   "source": [
    "r.headers"
   ]
  },
  {
   "cell_type": "code",
   "execution_count": 12,
   "id": "544b9af5-194a-4a68-a303-dd5925395ddb",
   "metadata": {},
   "outputs": [
    {
     "data": {
      "text/plain": [
       "'Chalmers [updated]'"
      ]
     },
     "execution_count": 12,
     "metadata": {},
     "output_type": "execute_result"
    }
   ],
   "source": [
    "api_url = f\"{base_url}/Patient/{created_id}\"\n",
    "response = requests.get(api_url)\n",
    "patient = response.json()\n",
    "patient[\"name\"][0][\"family\"]"
   ]
  },
  {
   "cell_type": "markdown",
   "id": "891eb713-391f-4a36-9e16-bea75e3b74be",
   "metadata": {},
   "source": [
    "## Deleting a patient"
   ]
  },
  {
   "cell_type": "code",
   "execution_count": 13,
   "id": "a83cee33-79fe-443f-a237-9b9769350a1b",
   "metadata": {},
   "outputs": [
    {
     "data": {
      "text/plain": [
       "<Response [204]>"
      ]
     },
     "execution_count": 13,
     "metadata": {},
     "output_type": "execute_result"
    }
   ],
   "source": [
    "api_url = f\"{base_url}/Patient/{created_id}\"\n",
    "r = requests.delete(api_url)\n",
    "r"
   ]
  },
  {
   "cell_type": "code",
   "execution_count": 14,
   "id": "cf80761b-1b70-447f-b117-6ed3e8106add",
   "metadata": {},
   "outputs": [
    {
     "data": {
      "text/plain": [
       "{'Date': 'Wed, 29 Nov 2023 00:13:17 GMT', 'Server': 'Apache', 'CACHE-CONTROL': 'no-cache', 'ETAG': 'W/\"3\"', 'EXPIRES': 'Thu, 29 Oct 1998 17:04:19 GMT', 'PRAGMA': 'no-cache', 'Keep-Alive': 'timeout=120', 'Connection': 'Keep-Alive'}"
      ]
     },
     "execution_count": 14,
     "metadata": {},
     "output_type": "execute_result"
    }
   ],
   "source": [
    "r.headers"
   ]
  },
  {
   "cell_type": "code",
   "execution_count": 15,
   "id": "a6642251-bbe7-4900-b507-df0cd82d836c",
   "metadata": {},
   "outputs": [
    {
     "data": {
      "text/plain": [
       "{'resourceType': 'OperationOutcome',\n",
       " 'issue': [{'severity': 'error',\n",
       "   'code': 'exception',\n",
       "   'diagnostics': '<HSFHIRErr>ResourceWasDeleted',\n",
       "   'details': {'text': \"Resource was previously deleted (type='Patient', id='41', version='').\"}}]}"
      ]
     },
     "execution_count": 15,
     "metadata": {},
     "output_type": "execute_result"
    }
   ],
   "source": [
    "api_url = f\"{base_url}/Patient/{created_id}\"\n",
    "response = requests.get(api_url)\n",
    "patient = response.json()\n",
    "patient"
   ]
  }
 ],
 "metadata": {
  "kernelspec": {
   "display_name": "Python 3 (ipykernel)",
   "language": "python",
   "name": "python3"
  },
  "language_info": {
   "codemirror_mode": {
    "name": "ipython",
    "version": 3
   },
   "file_extension": ".py",
   "mimetype": "text/x-python",
   "name": "python",
   "nbconvert_exporter": "python",
   "pygments_lexer": "ipython3",
   "version": "3.10.12"
  }
 },
 "nbformat": 4,
 "nbformat_minor": 5
}
