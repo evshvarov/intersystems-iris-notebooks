{
 "cells": [
  {
   "cell_type": "markdown",
   "id": "56bab620-86ed-4ea7-964f-d7ff05ddce9a",
   "metadata": {},
   "source": [
    "# FHIR CRUD using fhirpy"
   ]
  },
  {
   "cell_type": "markdown",
   "id": "ea07332a-79c0-4798-9f66-f1143e697c16",
   "metadata": {},
   "source": [
    "## Setup"
   ]
  },
  {
   "cell_type": "code",
   "execution_count": 1,
   "id": "6303fa18-107c-4a50-b4f5-a675f1ec5a5b",
   "metadata": {},
   "outputs": [
    {
     "name": "stdout",
     "output_type": "stream",
     "text": [
      "Defaulting to user installation because normal site-packages is not writeable\n",
      "Requirement already satisfied: fhirpy in /home/irisowner/.local/lib/python3.10/site-packages (1.4.2)\n",
      "Requirement already satisfied: fhir.resources in /home/irisowner/.local/lib/python3.10/site-packages (7.0.2)\n",
      "Requirement already satisfied: uuid in /home/irisowner/.local/lib/python3.10/site-packages (1.30)\n",
      "Requirement already satisfied: aiohttp>=3.6.3 in /home/irisowner/.local/lib/python3.10/site-packages (from fhirpy) (3.9.0)\n",
      "Requirement already satisfied: requests>=2.25.1 in /home/irisowner/.local/lib/python3.10/site-packages (from fhirpy) (2.31.0)\n",
      "Requirement already satisfied: pytz in /home/irisowner/.local/lib/python3.10/site-packages (from fhirpy) (2023.3.post1)\n",
      "Requirement already satisfied: pydantic[email]<2.0.0,>=1.7.2 in /home/irisowner/.local/lib/python3.10/site-packages (from fhir.resources) (1.10.13)\n",
      "Requirement already satisfied: yarl<2.0,>=1.0 in /home/irisowner/.local/lib/python3.10/site-packages (from aiohttp>=3.6.3->fhirpy) (1.9.3)\n",
      "Requirement already satisfied: multidict<7.0,>=4.5 in /home/irisowner/.local/lib/python3.10/site-packages (from aiohttp>=3.6.3->fhirpy) (6.0.4)\n",
      "Requirement already satisfied: frozenlist>=1.1.1 in /home/irisowner/.local/lib/python3.10/site-packages (from aiohttp>=3.6.3->fhirpy) (1.4.0)\n",
      "Requirement already satisfied: async-timeout<5.0,>=4.0 in /home/irisowner/.local/lib/python3.10/site-packages (from aiohttp>=3.6.3->fhirpy) (4.0.3)\n",
      "Requirement already satisfied: attrs>=17.3.0 in /usr/local/lib/python3.10/dist-packages (from aiohttp>=3.6.3->fhirpy) (23.1.0)\n",
      "Requirement already satisfied: aiosignal>=1.1.2 in /home/irisowner/.local/lib/python3.10/site-packages (from aiohttp>=3.6.3->fhirpy) (1.3.1)\n",
      "Requirement already satisfied: typing-extensions>=4.2.0 in /home/irisowner/.local/lib/python3.10/site-packages (from pydantic[email]<2.0.0,>=1.7.2->fhir.resources) (4.8.0)\n",
      "Requirement already satisfied: email-validator>=1.0.3 in /home/irisowner/.local/lib/python3.10/site-packages (from pydantic[email]<2.0.0,>=1.7.2->fhir.resources) (2.1.0.post1)\n",
      "Requirement already satisfied: idna<4,>=2.5 in /home/irisowner/.local/lib/python3.10/site-packages (from requests>=2.25.1->fhirpy) (3.4)\n",
      "Requirement already satisfied: urllib3<3,>=1.21.1 in /home/irisowner/.local/lib/python3.10/site-packages (from requests>=2.25.1->fhirpy) (2.1.0)\n",
      "Requirement already satisfied: certifi>=2017.4.17 in /home/irisowner/.local/lib/python3.10/site-packages (from requests>=2.25.1->fhirpy) (2023.7.22)\n",
      "Requirement already satisfied: charset-normalizer<4,>=2 in /home/irisowner/.local/lib/python3.10/site-packages (from requests>=2.25.1->fhirpy) (3.3.2)\n",
      "Requirement already satisfied: dnspython>=2.0.0 in /home/irisowner/.local/lib/python3.10/site-packages (from email-validator>=1.0.3->pydantic[email]<2.0.0,>=1.7.2->fhir.resources) (2.4.2)\n"
     ]
    }
   ],
   "source": [
    "!pip install fhirpy fhir.resources uuid"
   ]
  },
  {
   "cell_type": "code",
   "execution_count": 2,
   "id": "339568a1-83fc-4300-ae43-85e425e6eb82",
   "metadata": {},
   "outputs": [],
   "source": [
    "import json\n",
    "# from fhirpy import SyncFHIRClient\n",
    "from fhirpy import AsyncFHIRClient\n",
    "from fhir.resources.patient import Patient\n",
    "from fhir.resources.humanname import HumanName\n",
    "import uuid"
   ]
  },
  {
   "cell_type": "code",
   "execution_count": 3,
   "id": "5d7d8d74-af3f-4bb9-b6ac-e87e6d35dbc5",
   "metadata": {},
   "outputs": [],
   "source": [
    "server_url = 'http://localhost:52773/fhir/r4'\n",
    "client = AsyncFHIRClient(\n",
    "    url=server_url, \n",
    "    authorization='', \n",
    "    extra_headers={\"Content-Type\": \"application/fhir+json;charset=utf-8\"}\n",
    ")"
   ]
  },
  {
   "cell_type": "markdown",
   "id": "bad12034-7cbb-49c8-8edf-af76d39e72d0",
   "metadata": {},
   "source": [
    "## Creating a patient"
   ]
  },
  {
   "cell_type": "code",
   "execution_count": 4,
   "id": "8ef95ecb-a9e2-4867-ae48-f22cf73151ed",
   "metadata": {},
   "outputs": [
    {
     "data": {
      "text/plain": [
       "Patient(resource_type='Patient', fhir_comments=None, id=None, implicitRules=None, implicitRules__ext=None, language=None, language__ext=None, meta=None, contained=None, extension=None, modifierExtension=None, text=None, active=None, active__ext=None, address=None, birthDate=None, birthDate__ext=None, communication=None, contact=None, deceasedBoolean=None, deceasedBoolean__ext=None, deceasedDateTime=None, deceasedDateTime__ext=None, gender=None, gender__ext=None, generalPractitioner=None, identifier=None, link=None, managingOrganization=None, maritalStatus=None, multipleBirthBoolean=None, multipleBirthBoolean__ext=None, multipleBirthInteger=None, multipleBirthInteger__ext=None, name=[HumanName(resource_type='HumanName', fhir_comments=None, extension=None, id=None, family='familyname', family__ext=None, given=['givenname1', 'givenname2'], given__ext=None, period=None, prefix=None, prefix__ext=None, suffix=None, suffix__ext=None, text=None, text__ext=None, use='official', use__ext=None)], photo=None, telecom=None)"
      ]
     },
     "execution_count": 4,
     "metadata": {},
     "output_type": "execute_result"
    }
   ],
   "source": [
    "patient = Patient()\n",
    "name = HumanName()\n",
    "name.use = \"official\"\n",
    "name.family = \"familyname\"\n",
    "name.given = [\"givenname1\",\"givenname2\"]\n",
    "patient.name = [name]\n",
    "patient"
   ]
  },
  {
   "cell_type": "code",
   "execution_count": 5,
   "id": "3bfd16e7-a1db-4a01-8035-a57ed2cec02e",
   "metadata": {},
   "outputs": [],
   "source": [
    "# the fhirpy lib doen't return the ID of a resource \n",
    "# create by it - at least until the time of writing \n",
    "# of this notebook. A workaroud to manage that is to \n",
    "# define an ID\n",
    "patient.id = str(uuid.uuid1())"
   ]
  },
  {
   "cell_type": "code",
   "execution_count": 6,
   "id": "b73ca449-877f-4834-b405-f173c05f9493",
   "metadata": {},
   "outputs": [
    {
     "data": {
      "text/plain": [
       "<AsyncFHIRResource Patient/e7711428-8e4b-11ee-8238-0242ac180002>"
      ]
     },
     "execution_count": 6,
     "metadata": {},
     "output_type": "execute_result"
    }
   ],
   "source": [
    "patient = client.resource('Patient', **json.loads(patient.json()))\n",
    "patient"
   ]
  },
  {
   "cell_type": "code",
   "execution_count": 7,
   "id": "4fa31f62-a897-46fb-9a17-0d141f9b1eaf",
   "metadata": {},
   "outputs": [],
   "source": [
    "await patient.save()"
   ]
  },
  {
   "cell_type": "code",
   "execution_count": 8,
   "id": "6e88480a-87ce-44de-bec9-7cbb7fcc83bd",
   "metadata": {},
   "outputs": [],
   "source": [
    "created_id = patient['id']"
   ]
  },
  {
   "cell_type": "markdown",
   "id": "e3f78bfa-81b4-47c2-8f5c-6d71418bf901",
   "metadata": {},
   "source": [
    "## Retrieving a patient"
   ]
  },
  {
   "cell_type": "code",
   "execution_count": 9,
   "id": "b8c22cbd-0bb7-4ad2-a439-c7e7b3f2480a",
   "metadata": {},
   "outputs": [
    {
     "data": {
      "text/plain": [
       "{'resourceType': 'Patient',\n",
       " 'id': 'e7711428-8e4b-11ee-8238-0242ac180002',\n",
       " 'name': [{'use': 'official',\n",
       "   'family': 'familyname',\n",
       "   'given': ['givenname1', 'givenname2']}],\n",
       " 'meta': {'lastUpdated': '2023-11-29T00:11:55Z', 'versionId': '1'}}"
      ]
     },
     "execution_count": 9,
     "metadata": {},
     "output_type": "execute_result"
    }
   ],
   "source": [
    "patient_resource = await client.reference('Patient', created_id).to_resource()\n",
    "patient_resource.serialize()"
   ]
  },
  {
   "cell_type": "markdown",
   "id": "03fb2c7d-9eb0-4b58-9f34-92f89a01407a",
   "metadata": {},
   "source": [
    "## Updating a patient"
   ]
  },
  {
   "cell_type": "code",
   "execution_count": 10,
   "id": "a1c51c96-05e5-4b4f-b3d2-9cdaec0f7132",
   "metadata": {},
   "outputs": [
    {
     "data": {
      "text/plain": [
       "'familyname'"
      ]
     },
     "execution_count": 10,
     "metadata": {},
     "output_type": "execute_result"
    }
   ],
   "source": [
    "patient.name[0].family"
   ]
  },
  {
   "cell_type": "code",
   "execution_count": 11,
   "id": "86bf8a86-17ac-4718-8a94-927756570dad",
   "metadata": {},
   "outputs": [
    {
     "data": {
      "text/plain": [
       "'familyname [updated]'"
      ]
     },
     "execution_count": 11,
     "metadata": {},
     "output_type": "execute_result"
    }
   ],
   "source": [
    "patient.name[0].family = f'{patient.name[0].family} [updated]'\n",
    "patient.name[0].family"
   ]
  },
  {
   "cell_type": "code",
   "execution_count": 12,
   "id": "4cc04c60-071d-4383-9e89-a9f4d6a73053",
   "metadata": {},
   "outputs": [],
   "source": [
    "await patient.save()"
   ]
  },
  {
   "cell_type": "code",
   "execution_count": 13,
   "id": "5227561e-ad1e-46e6-893c-747a45c58b53",
   "metadata": {},
   "outputs": [
    {
     "data": {
      "text/plain": [
       "{'resourceType': 'Patient',\n",
       " 'id': 'e7711428-8e4b-11ee-8238-0242ac180002',\n",
       " 'name': [{'use': 'official',\n",
       "   'family': 'familyname [updated]',\n",
       "   'given': ['givenname1', 'givenname2']}],\n",
       " 'meta': {'lastUpdated': '2023-11-29T00:11:55Z', 'versionId': '2'}}"
      ]
     },
     "execution_count": 13,
     "metadata": {},
     "output_type": "execute_result"
    }
   ],
   "source": [
    "patient_resource = await client.reference('Patient', created_id).to_resource()\n",
    "patient_resource.serialize()"
   ]
  },
  {
   "cell_type": "markdown",
   "id": "24648aa9-84c1-4092-8495-a2481ed95597",
   "metadata": {},
   "source": [
    "## Deleting a patient"
   ]
  },
  {
   "cell_type": "code",
   "execution_count": 14,
   "id": "bc0a7301-0194-47fc-ab44-fb918be48eb7",
   "metadata": {},
   "outputs": [],
   "source": [
    "await patient.delete()"
   ]
  },
  {
   "cell_type": "code",
   "execution_count": 15,
   "id": "f9709fe1-82f0-4d58-91d3-09a0c7a72743",
   "metadata": {},
   "outputs": [
    {
     "name": "stdout",
     "output_type": "stream",
     "text": [
      "{\"resourceType\":\"OperationOutcome\",\"issue\":[{\"severity\":\"error\",\"code\":\"exception\",\"diagnostics\":\"<HSFHIRErr>ResourceWasDeleted\",\"details\":{\"text\":\"Resource was previously deleted (type='Patient', id='e7711428-8e4b-11ee-8238-0242ac180002', version='').\"}}]}\n"
     ]
    }
   ],
   "source": [
    "try:\n",
    "    patient_resource = await client.reference('Patient', created_id).to_resource()\n",
    "except Exception as e:\n",
    "    print(e)"
   ]
  }
 ],
 "metadata": {
  "kernelspec": {
   "display_name": "Python 3 (ipykernel)",
   "language": "python",
   "name": "python3"
  },
  "language_info": {
   "codemirror_mode": {
    "name": "ipython",
    "version": 3
   },
   "file_extension": ".py",
   "mimetype": "text/x-python",
   "name": "python",
   "nbconvert_exporter": "python",
   "pygments_lexer": "ipython3",
   "version": "3.10.12"
  }
 },
 "nbformat": 4,
 "nbformat_minor": 5
}
