{
 "cells": [
  {
   "cell_type": "markdown",
   "id": "e78987af-ba16-4818-82f9-558cf4aff23f",
   "metadata": {},
   "source": [
    "# Installing sqlalchemy-iris"
   ]
  },
  {
   "cell_type": "markdown",
   "id": "0d1bf611-edf2-4e46-b710-17497bb59fbd",
   "metadata": {},
   "source": [
    "Install the SQLAlchemy driver for InterSystems IRIS Cloud SQL for easy access using Python."
   ]
  },
  {
   "cell_type": "code",
   "execution_count": 1,
   "id": "556940dd-af59-4bbc-a65f-7c4dcb9b64d4",
   "metadata": {},
   "outputs": [
    {
     "name": "stdout",
     "output_type": "stream",
     "text": [
      "Requirement already satisfied: sqlalchemy-iris in c:\\users\\jrper\\dev\\venv\\lib\\site-packages (0.10.5)\n",
      "Requirement already satisfied: SQLAlchemy>=1.3 in c:\\users\\jrper\\dev\\venv\\lib\\site-packages (from sqlalchemy-iris) (2.0.21)\n",
      "Requirement already satisfied: typing-extensions>=4.2.0 in c:\\users\\jrper\\dev\\venv\\lib\\site-packages (from SQLAlchemy>=1.3->sqlalchemy-iris) (4.8.0)\n",
      "Requirement already satisfied: greenlet!=0.4.17 in c:\\users\\jrper\\dev\\venv\\lib\\site-packages (from SQLAlchemy>=1.3->sqlalchemy-iris) (3.0.0)\n"
     ]
    },
    {
     "name": "stderr",
     "output_type": "stream",
     "text": [
      "\n",
      "[notice] A new release of pip is available: 23.2.1 -> 23.3.1\n",
      "[notice] To update, run: python.exe -m pip install --upgrade pip\n"
     ]
    }
   ],
   "source": [
    "!pip install sqlalchemy-iris"
   ]
  },
  {
   "cell_type": "markdown",
   "id": "2213e3f6-e01e-4fc1-8e84-289aac63c73b",
   "metadata": {},
   "source": [
    "# Imports"
   ]
  },
  {
   "cell_type": "markdown",
   "id": "197a9b3f-086a-4a2c-b3c0-2b3a1c2d293d",
   "metadata": {},
   "source": [
    "Import the libraries need to connecting to InterSystems IRIS Cloud SQL and SQL handling."
   ]
  },
  {
   "cell_type": "code",
   "execution_count": 2,
   "id": "c5177e1b-6f9d-49e8-a81a-dfe4207ae3e0",
   "metadata": {},
   "outputs": [],
   "source": [
    "# Required libraries\n",
    "from sqlalchemy import create_engine\n",
    "import pandas as pd\n",
    "import ssl"
   ]
  },
  {
   "cell_type": "markdown",
   "id": "c14f3682-f145-4e23-b40c-2e75f34175e0",
   "metadata": {},
   "source": [
    "# Configure TLS"
   ]
  },
  {
   "cell_type": "markdown",
   "id": "d206c1bc-e330-441f-9c8c-796aec0f129a",
   "metadata": {},
   "source": [
    "First download the X.509 certificate from InterSystems IRIS Cloud SQL."
   ]
  },
  {
   "cell_type": "markdown",
   "id": "c4bbaa9d-da53-4d5e-bd22-431d44a9c3f9",
   "metadata": {},
   "source": [
    "![Get X.509 Certificate](./ONLhcXPxOs.png)"
   ]
  },
  {
   "cell_type": "code",
   "execution_count": 3,
   "id": "bbcaf796-237d-46ee-988a-10872636dbee",
   "metadata": {},
   "outputs": [],
   "source": [
    "# loads the PEM file contents\n",
    "with open(\"C:/Users/jrper/Downloads/certificateSQLaaS.pem\", \"r\") as file:\n",
    "    pem_file_contents = file.read()\n",
    "    \n",
    "# create the ssl context from the certificate\n",
    "ssl_context = ssl.create_default_context(cadata=pem_file_contents)"
   ]
  },
  {
   "cell_type": "markdown",
   "id": "7ac1d907-bf85-49c2-9143-ff840d5a2637",
   "metadata": {},
   "source": [
    "# Connecting to InterSystems IRIS Cloud SQL"
   ]
  },
  {
   "cell_type": "code",
   "execution_count": 4,
   "id": "d17d6f17-98da-4f83-8951-5eafd0a0117b",
   "metadata": {},
   "outputs": [
    {
     "name": "stderr",
     "output_type": "stream",
     "text": [
      "C:\\Users\\jrper\\dev\\venv\\Lib\\site-packages\\sqlalchemy_iris\\base.py:888: SAWarning: There are no access to %Dictionary, may be required for some advanced features, such as Calculated fields, and include columns in indexes                \n",
      "  util.warn(\n"
     ]
    }
   ],
   "source": [
    "# InterSystems IRIS Cloud SQL connection parameters\n",
    "args = {\n",
    "    'hostname': \"k8s-18831a2f-a3d47372-2637d3479d-7da9058c174ad3db.elb.us-east-1.amazonaws.com\",\n",
    "    'port': \"443\",\n",
    "    'namespace': \"USER\",\n",
    "    'username': \"SQLAdmin\",\n",
    "    'password': \"DTgDf9qpXACZ5LG!\"\n",
    "}\n",
    "\n",
    "# Create a sqlalchemy connection to IRIS\n",
    "engine = create_engine(f\"iris://{args['username']}:{args['password']}@{args['hostname']}:{args['port']}/{args['namespace']}\", connect_args={'sslcontext':ssl_context})\n",
    "conn = engine.connect()"
   ]
  },
  {
   "cell_type": "markdown",
   "id": "f037cb4a-ee5c-4c9c-a9a8-43003af2d4da",
   "metadata": {},
   "source": [
    "# Sending SQL statements through SQLAlchemy and Pandas"
   ]
  },
  {
   "cell_type": "code",
   "execution_count": 5,
   "id": "745572df-bde3-4585-b517-3c7689b8502a",
   "metadata": {},
   "outputs": [
    {
     "data": {
      "text/html": [
       "<div>\n",
       "<style scoped>\n",
       "    .dataframe tbody tr th:only-of-type {\n",
       "        vertical-align: middle;\n",
       "    }\n",
       "\n",
       "    .dataframe tbody tr th {\n",
       "        vertical-align: top;\n",
       "    }\n",
       "\n",
       "    .dataframe thead th {\n",
       "        text-align: right;\n",
       "    }\n",
       "</style>\n",
       "<table border=\"1\" class=\"dataframe\">\n",
       "  <thead>\n",
       "    <tr style=\"text-align: right;\">\n",
       "      <th></th>\n",
       "      <th>Expression_1</th>\n",
       "    </tr>\n",
       "  </thead>\n",
       "  <tbody>\n",
       "    <tr>\n",
       "      <th>0</th>\n",
       "      <td>2023-11-02</td>\n",
       "    </tr>\n",
       "  </tbody>\n",
       "</table>\n",
       "</div>"
      ],
      "text/plain": [
       "  Expression_1\n",
       "0   2023-11-02"
      ]
     },
     "execution_count": 5,
     "metadata": {},
     "output_type": "execute_result"
    }
   ],
   "source": [
    "pd.read_sql(\"select current_date\", conn)"
   ]
  },
  {
   "cell_type": "markdown",
   "id": "a4aa4531-b854-4f1d-b5dd-9d50d1d9282f",
   "metadata": {},
   "source": [
    "# Connection releasing"
   ]
  },
  {
   "cell_type": "code",
   "execution_count": 6,
   "id": "f183fef3-e461-4c17-9fcf-79ab638e661f",
   "metadata": {},
   "outputs": [],
   "source": [
    "conn.close()\n",
    "engine.dispose()"
   ]
  }
 ],
 "metadata": {
  "kernelspec": {
   "display_name": "Python 3 (ipykernel)",
   "language": "python",
   "name": "python3"
  },
  "language_info": {
   "codemirror_mode": {
    "name": "ipython",
    "version": 3
   },
   "file_extension": ".py",
   "mimetype": "text/x-python",
   "name": "python",
   "nbconvert_exporter": "python",
   "pygments_lexer": "ipython3",
   "version": "3.11.5"
  }
 },
 "nbformat": 4,
 "nbformat_minor": 5
}
