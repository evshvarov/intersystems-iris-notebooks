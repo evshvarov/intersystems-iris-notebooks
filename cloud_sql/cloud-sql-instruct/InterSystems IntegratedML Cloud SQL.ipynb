{
 "cells": [
  {
   "cell_type": "markdown",
   "id": "73db08da-3ddd-42b5-9649-e28c8498c1cb",
   "metadata": {},
   "source": [
    "# InterSystems IntegratedML"
   ]
  },
  {
   "cell_type": "markdown",
   "id": "ed1e4c02-d95b-4b4b-bc7f-4b4469ffa242",
   "metadata": {},
   "source": [
    "todo: IntegrateML description"
   ]
  },
  {
   "cell_type": "markdown",
   "id": "67571b10-9a34-45f1-b025-fb16edbf35f9",
   "metadata": {},
   "source": [
    "## How to start with IntegratedML"
   ]
  },
  {
   "cell_type": "markdown",
   "id": "0bf42243-71fb-4a67-ba3c-dc64a1a2e515",
   "metadata": {},
   "source": [
    "Follow these steps:\n",
    "\n",
    "1. Send email to thomas.dyar@intersystems.com to request an InterSystems cloud account – hurry up, they’re limited to the first 20 teams! We will provide instructions in a reply email.\n",
    "\n",
    "2. Once you create an account, and start the limited-time Trial, you can create a Deployment, which is a cloud-hosted server complete with running InterSystems IRIS data platform. "
   ]
  },
  {
   "cell_type": "markdown",
   "id": "5d92641f-63cc-4f86-8da8-91c72fd5a093",
   "metadata": {},
   "source": [
    "## How to create a deployment"
   ]
  },
  {
   "cell_type": "markdown",
   "id": "088b1aee-31df-4faa-b78b-2e33317d1584",
   "metadata": {},
   "source": [
    "After you received your account information, access the Cloud SQL Portal and follow these steps:"
   ]
  },
  {
   "cell_type": "markdown",
   "id": "c94ee501-d627-4c42-bfe5-5a0ab179e434",
   "metadata": {},
   "source": [
    "1. Click in \"Create Deployment\":\n",
    "   ![Create Deployment](./8y0ZS9KQmd.png)"
   ]
  },
  {
   "cell_type": "markdown",
   "id": "6fe5844f-e377-44d5-a4fc-c17c6f685b8d",
   "metadata": {},
   "source": [
    "2. Fill the \"Deployment Option\" like the image below and then click in \"Continue\":\n",
    "   ![Deployment Options](./k45GObFnb9.png)"
   ]
  },
  {
   "cell_type": "markdown",
   "id": "bbf975a7-9807-4eb0-a4c2-a8ff8aa60a50",
   "metadata": {},
   "source": [
    "3. Fill the \"Cloud Options\" like the image below and then click in \"Continue\":\n",
    "   ![Cloud Options](./q1F0n8o1zc.png)"
   ]
  },
  {
   "cell_type": "markdown",
   "id": "a2c54777-4963-404e-9395-9b1ac5717d99",
   "metadata": {},
   "source": [
    "4. Fill the \"Deployment Name\" like the image below and then click in \"Continue\":\n",
    "   ![Deployment Name](./4dzP2uDI1X.png)"
   ]
  },
  {
   "cell_type": "markdown",
   "id": "a076a4ff-db2a-4141-90f9-cbd5b16e3c88",
   "metadata": {},
   "source": [
    "5. Review your options and then click in \"Create\":\n",
    "   ![Review your options](./VYVfnY8Alf.png)"
   ]
  },
  {
   "cell_type": "markdown",
   "id": "0f6af5b2-d627-461c-b3ac-b28acd5849ef",
   "metadata": {},
   "source": [
    "6. After that, you'll see a page like below, which you can see your deployment in a \"Pending\" state. You can click in \"Refresh\" to check for changes in the deployment state:\n",
    "   ![Deployment in pending state](RWMa7EAvFV.png)"
   ]
  },
  {
   "cell_type": "markdown",
   "id": "c21e1d87-6c4f-4c62-9f3e-f27ad0ea9d8c",
   "metadata": {},
   "source": [
    "7. Wait for a couple minutes until your deployment status change to \"Running\", then click on it name:\n",
    "   ![Deployment in running state](ewv0AUnM2S.png)"
   ]
  },
  {
   "cell_type": "markdown",
   "id": "f193dd5a-294e-4809-9857-4d79c5ccec01",
   "metadata": {},
   "source": [
    "8. If all goes as expected, you'll see a page with your deployment information, like the image below:\n",
    "   ![Deployment page](./51DFsYAxwR.png)"
   ]
  },
  {
   "cell_type": "markdown",
   "id": "811e7406-f905-42f7-8bca-ff777b3746a7",
   "metadata": {},
   "source": [
    "Now you are set to connect to your Cloud SQL deployment via JDBC using other tools such as [DBeaver﻿](https://dbeaver.io/), or via our Python DB-API driver. Check out  DB-API driver documentation [here](https://dbeaver.io/).\n",
    "\n",
    "For that, use the displayed in \"Connection details\" section:\n",
    "![Connection details](./XeiGsgJktA.png)"
   ]
  }
 ],
 "metadata": {
  "kernelspec": {
   "display_name": "Python 3 (ipykernel)",
   "language": "python",
   "name": "python3"
  },
  "language_info": {
   "codemirror_mode": {
    "name": "ipython",
    "version": 3
   },
   "file_extension": ".py",
   "mimetype": "text/x-python",
   "name": "python",
   "nbconvert_exporter": "python",
   "pygments_lexer": "ipython3",
   "version": "3.11.5"
  }
 },
 "nbformat": 4,
 "nbformat_minor": 5
}
